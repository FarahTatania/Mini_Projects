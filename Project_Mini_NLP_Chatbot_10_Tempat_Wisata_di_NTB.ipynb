{
  "cells": [
    {
      "cell_type": "markdown",
      "metadata": {
        "id": "view-in-github",
        "colab_type": "text"
      },
      "source": [
        "<a href=\"https://colab.research.google.com/github/FarahTatania/Mini_Projects/blob/main/Project_Mini_NLP_Chatbot_10_Tempat_Wisata_di_NTB.ipynb\" target=\"_parent\"><img src=\"https://colab.research.google.com/assets/colab-badge.svg\" alt=\"Open In Colab\"/></a>"
      ]
    },
    {
      "cell_type": "markdown",
      "metadata": {
        "id": "vSb0QHrcsGc9"
      },
      "source": [
        "## Project Mini Chatbot 10 Tempat Wisata di NTB\n"
      ]
    },
    {
      "cell_type": "markdown",
      "metadata": {
        "id": "-nys5d9aIsnb"
      },
      "source": [
        "## Kelompok 3\n",
        "1. Ami Widyastutik (Jumatec)\n",
        "2. Ayu Susanti (Jumatec)\n",
        "3. Farah Tatania (Jumatec)\n",
        "4. Flenco Nerohoston (Winning Eleven)\n",
        "5. Khadafy Rafsanjani (Jumatec)\n",
        "6. Nurul Syafdiah (Winning Eleven)\n",
        "7. Risma Mardiantika (Winning Eleven)"
      ]
    },
    {
      "cell_type": "code",
      "execution_count": null,
      "metadata": {
        "id": "yE4rWjtACRGf"
      },
      "outputs": [],
      "source": [
        "#sumber materi : https://www.tokopedia.com/blog/travel-wisata-pulau-nusa-tenggara-barat/"
      ]
    },
    {
      "cell_type": "markdown",
      "metadata": {
        "id": "o_hVe6k0tDNa"
      },
      "source": [
        "#### Tools Scarping Data"
      ]
    },
    {
      "cell_type": "code",
      "execution_count": null,
      "metadata": {
        "colab": {
          "base_uri": "https://localhost:8080/"
        },
        "id": "ye3nyhSyCRGi",
        "outputId": "1440e7e6-64cc-40fa-b10c-00e785bd0362"
      },
      "outputs": [
        {
          "name": "stdout",
          "output_type": "stream",
          "text": [
            "Collecting newspaper3k\n",
            "  Downloading newspaper3k-0.2.8-py3-none-any.whl (211 kB)\n",
            "\u001b[?25l\r\u001b[K     |█▌                              | 10 kB 21.6 MB/s eta 0:00:01\r\u001b[K     |███                             | 20 kB 26.6 MB/s eta 0:00:01\r\u001b[K     |████▋                           | 30 kB 22.1 MB/s eta 0:00:01\r\u001b[K     |██████▏                         | 40 kB 12.0 MB/s eta 0:00:01\r\u001b[K     |███████▊                        | 51 kB 10.3 MB/s eta 0:00:01\r\u001b[K     |█████████▎                      | 61 kB 11.9 MB/s eta 0:00:01\r\u001b[K     |██████████▉                     | 71 kB 12.4 MB/s eta 0:00:01\r\u001b[K     |████████████▍                   | 81 kB 12.3 MB/s eta 0:00:01\r\u001b[K     |██████████████                  | 92 kB 13.5 MB/s eta 0:00:01\r\u001b[K     |███████████████▌                | 102 kB 12.2 MB/s eta 0:00:01\r\u001b[K     |█████████████████               | 112 kB 12.2 MB/s eta 0:00:01\r\u001b[K     |██████████████████▋             | 122 kB 12.2 MB/s eta 0:00:01\r\u001b[K     |████████████████████▏           | 133 kB 12.2 MB/s eta 0:00:01\r\u001b[K     |█████████████████████▊          | 143 kB 12.2 MB/s eta 0:00:01\r\u001b[K     |███████████████████████▎        | 153 kB 12.2 MB/s eta 0:00:01\r\u001b[K     |████████████████████████▉       | 163 kB 12.2 MB/s eta 0:00:01\r\u001b[K     |██████████████████████████▍     | 174 kB 12.2 MB/s eta 0:00:01\r\u001b[K     |████████████████████████████    | 184 kB 12.2 MB/s eta 0:00:01\r\u001b[K     |█████████████████████████████▌  | 194 kB 12.2 MB/s eta 0:00:01\r\u001b[K     |███████████████████████████████ | 204 kB 12.2 MB/s eta 0:00:01\r\u001b[K     |████████████████████████████████| 211 kB 12.2 MB/s \n",
            "\u001b[?25hCollecting tinysegmenter==0.3\n",
            "  Downloading tinysegmenter-0.3.tar.gz (16 kB)\n",
            "Requirement already satisfied: PyYAML>=3.11 in /usr/local/lib/python3.7/dist-packages (from newspaper3k) (3.13)\n",
            "Requirement already satisfied: beautifulsoup4>=4.4.1 in /usr/local/lib/python3.7/dist-packages (from newspaper3k) (4.6.3)\n",
            "Requirement already satisfied: python-dateutil>=2.5.3 in /usr/local/lib/python3.7/dist-packages (from newspaper3k) (2.8.2)\n",
            "Requirement already satisfied: requests>=2.10.0 in /usr/local/lib/python3.7/dist-packages (from newspaper3k) (2.23.0)\n",
            "Requirement already satisfied: Pillow>=3.3.0 in /usr/local/lib/python3.7/dist-packages (from newspaper3k) (7.1.2)\n",
            "Collecting cssselect>=0.9.2\n",
            "  Downloading cssselect-1.1.0-py2.py3-none-any.whl (16 kB)\n",
            "Requirement already satisfied: lxml>=3.6.0 in /usr/local/lib/python3.7/dist-packages (from newspaper3k) (4.2.6)\n",
            "Collecting feedparser>=5.2.1\n",
            "  Downloading feedparser-6.0.8-py3-none-any.whl (81 kB)\n",
            "\u001b[K     |████████████████████████████████| 81 kB 9.4 MB/s \n",
            "\u001b[?25hCollecting feedfinder2>=0.0.4\n",
            "  Downloading feedfinder2-0.0.4.tar.gz (3.3 kB)\n",
            "Collecting jieba3k>=0.35.1\n",
            "  Downloading jieba3k-0.35.1.zip (7.4 MB)\n",
            "\u001b[K     |████████████████████████████████| 7.4 MB 18.1 MB/s \n",
            "\u001b[?25hRequirement already satisfied: nltk>=3.2.1 in /usr/local/lib/python3.7/dist-packages (from newspaper3k) (3.2.5)\n",
            "Collecting tldextract>=2.0.1\n",
            "  Downloading tldextract-3.2.0-py3-none-any.whl (87 kB)\n",
            "\u001b[K     |████████████████████████████████| 87 kB 6.4 MB/s \n",
            "\u001b[?25hRequirement already satisfied: six in /usr/local/lib/python3.7/dist-packages (from feedfinder2>=0.0.4->newspaper3k) (1.15.0)\n",
            "Collecting sgmllib3k\n",
            "  Downloading sgmllib3k-1.0.0.tar.gz (5.8 kB)\n",
            "Requirement already satisfied: urllib3!=1.25.0,!=1.25.1,<1.26,>=1.21.1 in /usr/local/lib/python3.7/dist-packages (from requests>=2.10.0->newspaper3k) (1.24.3)\n",
            "Requirement already satisfied: chardet<4,>=3.0.2 in /usr/local/lib/python3.7/dist-packages (from requests>=2.10.0->newspaper3k) (3.0.4)\n",
            "Requirement already satisfied: idna<3,>=2.5 in /usr/local/lib/python3.7/dist-packages (from requests>=2.10.0->newspaper3k) (2.10)\n",
            "Requirement already satisfied: certifi>=2017.4.17 in /usr/local/lib/python3.7/dist-packages (from requests>=2.10.0->newspaper3k) (2021.10.8)\n",
            "Collecting requests-file>=1.4\n",
            "  Downloading requests_file-1.5.1-py2.py3-none-any.whl (3.7 kB)\n",
            "Requirement already satisfied: filelock>=3.0.8 in /usr/local/lib/python3.7/dist-packages (from tldextract>=2.0.1->newspaper3k) (3.6.0)\n",
            "Building wheels for collected packages: tinysegmenter, feedfinder2, jieba3k, sgmllib3k\n",
            "  Building wheel for tinysegmenter (setup.py) ... \u001b[?25l\u001b[?25hdone\n",
            "  Created wheel for tinysegmenter: filename=tinysegmenter-0.3-py3-none-any.whl size=13553 sha256=3e5ee19891fb8e8d263c3aedb2c9f7a6efa6382d1952187b0e2d2d1c90e4953a\n",
            "  Stored in directory: /root/.cache/pip/wheels/df/67/41/faca10fa501ca010be41b49d40360c2959e1c4f09bcbfa37fa\n",
            "  Building wheel for feedfinder2 (setup.py) ... \u001b[?25l\u001b[?25hdone\n",
            "  Created wheel for feedfinder2: filename=feedfinder2-0.0.4-py3-none-any.whl size=3357 sha256=73526589994bd91189bc38807ab5c23b313107f4d3afd903a5ae57c2af5f68a7\n",
            "  Stored in directory: /root/.cache/pip/wheels/7f/d4/8f/6e2ca54744c9d7292d88ddb8d42876bcdab5e6d84a21c10346\n",
            "  Building wheel for jieba3k (setup.py) ... \u001b[?25l\u001b[?25hdone\n",
            "  Created wheel for jieba3k: filename=jieba3k-0.35.1-py3-none-any.whl size=7398404 sha256=39ccbf9ba0fd988d36e7e2955c8860dbddd272c63da739b44e188ea8f1ba294b\n",
            "  Stored in directory: /root/.cache/pip/wheels/4c/91/46/3c208287b726df325a5979574324878b679116e4baae1af3c3\n",
            "  Building wheel for sgmllib3k (setup.py) ... \u001b[?25l\u001b[?25hdone\n",
            "  Created wheel for sgmllib3k: filename=sgmllib3k-1.0.0-py3-none-any.whl size=6066 sha256=70f17ca3b15f5a75fdd2b66834d6244ddbf1269ff303e2de8fc148d663718c70\n",
            "  Stored in directory: /root/.cache/pip/wheels/73/ad/a4/0dff4a6ef231fc0dfa12ffbac2a36cebfdddfe059f50e019aa\n",
            "Successfully built tinysegmenter feedfinder2 jieba3k sgmllib3k\n",
            "Installing collected packages: sgmllib3k, requests-file, tldextract, tinysegmenter, jieba3k, feedparser, feedfinder2, cssselect, newspaper3k\n",
            "Successfully installed cssselect-1.1.0 feedfinder2-0.0.4 feedparser-6.0.8 jieba3k-0.35.1 newspaper3k-0.2.8 requests-file-1.5.1 sgmllib3k-1.0.0 tinysegmenter-0.3 tldextract-3.2.0\n"
          ]
        }
      ],
      "source": [
        "!pip install newspaper3k #untuk scraping artikel pada web"
      ]
    },
    {
      "cell_type": "code",
      "execution_count": null,
      "metadata": {
        "id": "4FGmgeEECRGi"
      },
      "outputs": [],
      "source": [
        "# Import library\n",
        "from newspaper import Article\n",
        "import random #membantu dalam membuat list kata agar chattbot yang dibuat tidak monoton dengan respon jawabannya\n",
        "import nltk #untuk tokenisasi (library yang menyediakan corpus yang akan kita pakai dalam membuat chattbot)\n",
        "import string #untuk keperluan data bertype string\n",
        "from sklearn.feature_extraction.text import CountVectorizer #untuk ekstraksi fitur (atau vektorisasi) \n",
        "from sklearn.metrics.pairwise import cosine_similarity\n",
        "import numpy as np #library Python dasar untuk perhitungan matematis dan ilmiah.\n",
        "import warnings #mendeteksi program jika terjadi error\n",
        "warnings.filterwarnings('ignore') #mendeteksi program jika terjadi error"
      ]
    },
    {
      "cell_type": "code",
      "execution_count": null,
      "metadata": {
        "colab": {
          "base_uri": "https://localhost:8080/"
        },
        "id": "Sa8BD2nwCRGj",
        "outputId": "571d8d1f-9a8f-4e1d-f64e-c283a64f0778"
      },
      "outputs": [
        {
          "data": {
            "text/plain": [
              "True"
            ]
          },
          "execution_count": 5,
          "metadata": {},
          "output_type": "execute_result"
        }
      ],
      "source": [
        "nltk.download('punkt', quiet=True)"
      ]
    },
    {
      "cell_type": "markdown",
      "metadata": {
        "id": "LTnOWF68CRGk"
      },
      "source": [
        "### Proses 1 (Membuat korpus dengan mendownload artikel dari sebuah link)\n",
        "\n"
      ]
    },
    {
      "cell_type": "code",
      "execution_count": null,
      "metadata": {
        "colab": {
          "base_uri": "https://localhost:8080/"
        },
        "id": "otZH3R0eCRGk",
        "outputId": "d37e4b26-a9a7-46f5-c777-13f2199e42b1"
      },
      "outputs": [
        {
          "name": "stdout",
          "output_type": "stream",
          "text": [
            "Wisata Pulau di Nusa Tenggara Barat – Sebagai destinasi wisata favorit, Nusa Tenggara Barat (NTB) terkenal akan keindahan alamnya. Sebagai daerah kepulauan, tentunya pulau-pulau cantik di NTB menjadi primadona bagi para wisatawan, baik lokal maupun mancanegara. Nah, buat kamu yang berencana untuk berlibur ke NTB, tak perlu bingung dalam memilih, Tokopedia punya rekomendasi destinasi wisata pulau terbaik. Yuk, langsung simak di bawah!\n",
            "\n",
            "Baca juga: 7 Pantai Indonesia Yang Tidak Kalah Dari Maldives\n",
            "\n",
            "Wisata Pulau di Nusa Tenggara Barat\n",
            "\n",
            "1. Pulau Lombok\n",
            "\n",
            "Sumber gambar: Dream\n",
            "\n",
            "Sebagai pulau primer di kawasan Nusa Tenggara Barat, tentunya pulau Lombok menjadi destinasi paling utama buat para pelancong. Siapkan Peralatan Hiking-mu untuk menaklukan salah satu gunung tertinggi di Indonesia: Gunung Rijani. Atau, kamu juga bisa menikmati banyak pantai-pantai indah yang terkenal di Lombok!\n",
            "\n",
            "2. Pulau Bima\n",
            "\n",
            "Sumber gambar: Indikator Bima\n",
            "\n",
            "Destinasi wisata pulau favorit selanjutnya adalah Pulau Bima. Sebagai salah satu pulau besar di Nusa Tenggara Barat, Pulau Bima juga memiliki daya tariknya sendiri bagi wisatawan. Di Pulau Bima, pengunjung bisa menikmati keindahan alam yang masih asri.\n",
            "\n",
            "3. Pulau Sumbawa\n",
            "\n",
            "Sumber gambar: Merdeka\n",
            "\n",
            "Pulau Sumbawa merupakan pulau terbesar ke-2 di Nusa Tenggara Barat. Pulau Sumbawa menawarkan berbagai atraksi destinasi wisata, mulai dari pesisir pantai yang indah, hingga panorama gunung aktif, yakni Gunung Tambora. Pelancong bisa dengan mudah mengakses pulau ini dengan menyebrang dari Pulau Lombok.\n",
            "\n",
            "Harga Tiket: Tiket Ferry dari Lombok mulai Rp 29.000\n",
            "\n",
            "4. Pulau Gili Trawangan\n",
            "\n",
            "Sumber gambar: Tribunnews\n",
            "\n",
            "Pulau yang satu ini tentunya sudah tidak asing lagi buat Toppers. Yap, bicara soal wisata pulau di Lombok pastinya harus membahas Gili Trawangan. Sebagai destinasi favorit, pulau ini ramai dikunjungi wisatawan mancanegara. Jadi tidak heran bila pulau ini sering menjadi venue untuk berbagai events beken berkelas!\n",
            "\n",
            "Lokasi: Lepas Pantai Senggigi, Lombok\n",
            "\n",
            "Harga Tiket: Tiket Kapal Menyebrang Rp 10.000\n",
            "\n",
            "5. Pulau Gili Air\n",
            "\n",
            "Meski terletak bersebelahan dengan Gili Trawangan, Gili Air memiliki atraksinya tersendiri yang berbeda. Jika Gili Trawangan identik dengan keramaiannya yang seru, maka Gili Air cenderung lebih tenang dan sepi. Di Gili Air, kamu bisa menghabiskan waktu dengan bersantai di resort-resort mewah sambil menangkap pemandangan laut yang luar biasa indah dengan kamera-mu.\n",
            "\n",
            "Lokasi: Lepas Pantai Senggigi, Lombok\n",
            "\n",
            "Harga Tiket: Tiket Kapal Menyebrang Rp 9.000\n",
            "\n",
            "6. Pulau Gili Meno\n",
            "\n",
            "Sumber gambar: CNN News\n",
            "\n",
            "Lain lagi dengan kedua tetangganya itu, Gili Meno merupakan pulau kecil yang masih relatif belum terjamah, dengan panorama alam yang sangat asri. Kerenggangan pengunjung di pulau ini dimanfaatkan banyak turis untuk ber-snorkelling ataupun diving di lautan sekitarnya\n",
            "\n",
            "Lokasi: Lepas Pantai Senggigi, Lombok\n",
            "\n",
            "Harga Tiket: Tiket Kapal Menyebrang Rp 8.000.’\n",
            "\n",
            "Baca juga: 8 Benda Ini Wajib Kamu Bawa saat Liburan ke Pantai\n",
            "\n",
            "7. Pulau Gili Nanggu\n",
            "\n",
            "Sumber gambar: Dilombok\n",
            "\n",
            "Wisata pulau favorit di NTB selanjutnya adalah Gili Nanggu. Letak Gili Nanggu tidak jauh dari lepas Pantai Cemare, salah satu pantai terkenal di Pulau Lombok. Gili – yang berarti pulau kecil dalam bahasa Sasak – satu ini masih sangat asri dan belum terjamah. Para pengunjungnya bisa menikmati hamparan pasir putih dan air laut yang masih jernih.\n",
            "\n",
            "Lokasi: Lepas Pantai Pelabuhan Tawun, Lombok\n",
            "\n",
            "Harga Tiket: Sewa Perahu Rp 200.000 – Rp 450.000\n",
            "\n",
            "8. Pulau Gili Kedis\n",
            "\n",
            "Sumber gambar: Pesona Lombok dan Sumbawa\n",
            "\n",
            "Posisi GIli Kedis sangat dekat dengan GIli Nanggu. Sama seperti Gili Nanggu, kawasan pulau ini masih relatif sepi, dengan kondisi laut yang jernih. Tidak heran bila Gili Kedis belakangan tengah naik daun sebagai spot Snorkelling favorit di NTB.\n",
            "\n",
            "Lokasi: Lepas Pantai Pelabuhan Tawun, Lombok\n",
            "\n",
            "Harga Tiket: Sewa Perahu Rp 200.000 – Rp 450.000\n",
            "\n",
            "9. Pulau Gili Tongkang\n",
            "\n",
            "Sumber gambar: Merah Putih\n",
            "\n",
            "Masih di sekitar Pelabuhan Tawun, ada Gili yang tidak kalah populer dengan Gili lainnya, yakni Gili Tongkang. Perairan di sekitar Gili ini sangat kaya akan variasi biota laut yang hidup di dalamnya. Pengunjung Gili Tongkang bisa menikmati sensasi Diving, melihat panorama alam bawah laut khas NTB.\n",
            "\n",
            "Lokasi: Lepas Pantai Pelabuhan Tawun, Lombok\n",
            "\n",
            "Harga Tiket: Sewa Perahu Rp 200.000 – Rp 450.000\n",
            "\n",
            "10. Pulau Gili Layar\n",
            "\n",
            "Wisata pulau favorit di NTB selanjutnya adalah Gili Layar. Gili ini terkenal akan panorama Terumbu Karang yang berada di perairan sekitar pulau ini. Tidak heran bila banyak wisatawan asing yang rela jauh-jauh ke GIli Layar untuk menikmati indahnya alam laut di pulau ini. Jadi, langsung siapkan Kamera Underwater-mu!\n",
            "\n",
            "Lokasi: Lepas Pantai Pelabuhan Nambung, Lombok\n",
            "\n",
            "Harga Tiket: Sewa Perahu Rp 200.000 – Rp 450.000\n",
            "\n",
            "11. Pulau Komodo\n",
            "\n",
            "Sumber gambar: Merah Putih\n",
            "\n",
            "Memang letak pulau ini bukan berada di dalam wilayah NTB, melainkan tetanggnya Nusa Tenggara Timur. Akan tetapi, letaknya pulau ini masih terjangkau dari Pulau Lombok. Cukup menyebrang dengan banyak layanan kapal yang tersedia, wisatawan bisa mengunjungi Pulau Komodo dan melihat langsung Komodo yang legendaris itu! Jangan lupa untuk selalu jaga jarak, gunakan Kamera DSLR untuk memfoto Komodo dari jauh.\n",
            "\n",
            "Harga Tiket: Tiket masuk Rp 90.000\n",
            "\n",
            "12. Pulau Moyo\n",
            "\n",
            "Sumber gambar: Pesona Indo\n",
            "\n",
            "Pulau terakhir yang masuk rekomendasi adalah Pulau Moyo. Pulau yang dijuluki “Permata Biru yang Tersembunyi” ini memang masih sepi pengunjung. Alamnya yang luar biasa indah dan asri menjadi daya tarik utama Pulau Moyo. Buat kamu yang mau liburan anti-mainstream, pulau ini bisa jadi pilihan!\n",
            "\n",
            "Lokasi: Teluk Saleh, Kabupaten Sumbawa, NTB\n",
            "\n",
            "Harga Tiket: Tiket kapal menyebrang Rp 25.000\n",
            "\n",
            "Baca juga: 4 Destinasi Wisata Pulau Terbaik di Sulawesi Tengah\n",
            "\n",
            "Nah, itu dia daftar rekomendasi spot-spot wisata favorit di NTB versi Tokopedia. Gimana, tertarik untuk berlibur ke NTB? Jangan lupa untuk cek perlengkapan travelling-mu dan segera booking tiket pesawat termurah hanya di Tokopedia!\n"
          ]
        }
      ],
      "source": [
        "article = Article('https://www.tokopedia.com/blog/travel-wisata-pulau-nusa-tenggara-barat/')\n",
        "article.download() #download artikel\n",
        "article.parse() #menggambarkan syntactic structure sebuah kalimat yang tersusun dari struktur grammar formal.\n",
        "article.nlp()\n",
        "corpus = article.text\n",
        "print(corpus)"
      ]
    },
    {
      "cell_type": "markdown",
      "metadata": {
        "id": "bGmRAQ9WCRGl"
      },
      "source": [
        "### Proses 2 (Tokenization)"
      ]
    },
    {
      "cell_type": "code",
      "execution_count": null,
      "metadata": {
        "colab": {
          "base_uri": "https://localhost:8080/"
        },
        "id": "vh1UaZ3kCRGl",
        "outputId": "bca4da35-7335-4473-c8e9-ad7f8c01fdab"
      },
      "outputs": [
        {
          "name": "stdout",
          "output_type": "stream",
          "text": [
            "['Wisata Pulau di Nusa Tenggara Barat – Sebagai destinasi wisata favorit, Nusa Tenggara Barat (NTB) terkenal akan keindahan alamnya.', 'Sebagai daerah kepulauan, tentunya pulau-pulau cantik di NTB menjadi primadona bagi para wisatawan, baik lokal maupun mancanegara.', 'Nah, buat kamu yang berencana untuk berlibur ke NTB, tak perlu bingung dalam memilih, Tokopedia punya rekomendasi destinasi wisata pulau terbaik.', 'Yuk, langsung simak di bawah!', 'Baca juga: 7 Pantai Indonesia Yang Tidak Kalah Dari Maldives\\n\\nWisata Pulau di Nusa Tenggara Barat\\n\\n1.', 'Pulau Lombok\\n\\nSumber gambar: Dream\\n\\nSebagai pulau primer di kawasan Nusa Tenggara Barat, tentunya pulau Lombok menjadi destinasi paling utama buat para pelancong.', 'Siapkan Peralatan Hiking-mu untuk menaklukan salah satu gunung tertinggi di Indonesia: Gunung Rijani.', 'Atau, kamu juga bisa menikmati banyak pantai-pantai indah yang terkenal di Lombok!', '2.', 'Pulau Bima\\n\\nSumber gambar: Indikator Bima\\n\\nDestinasi wisata pulau favorit selanjutnya adalah Pulau Bima.', 'Sebagai salah satu pulau besar di Nusa Tenggara Barat, Pulau Bima juga memiliki daya tariknya sendiri bagi wisatawan.', 'Di Pulau Bima, pengunjung bisa menikmati keindahan alam yang masih asri.', '3.', 'Pulau Sumbawa\\n\\nSumber gambar: Merdeka\\n\\nPulau Sumbawa merupakan pulau terbesar ke-2 di Nusa Tenggara Barat.', 'Pulau Sumbawa menawarkan berbagai atraksi destinasi wisata, mulai dari pesisir pantai yang indah, hingga panorama gunung aktif, yakni Gunung Tambora.', 'Pelancong bisa dengan mudah mengakses pulau ini dengan menyebrang dari Pulau Lombok.', 'Harga Tiket: Tiket Ferry dari Lombok mulai Rp 29.000\\n\\n4.', 'Pulau Gili Trawangan\\n\\nSumber gambar: Tribunnews\\n\\nPulau yang satu ini tentunya sudah tidak asing lagi buat Toppers.', 'Yap, bicara soal wisata pulau di Lombok pastinya harus membahas Gili Trawangan.', 'Sebagai destinasi favorit, pulau ini ramai dikunjungi wisatawan mancanegara.', 'Jadi tidak heran bila pulau ini sering menjadi venue untuk berbagai events beken berkelas!', 'Lokasi: Lepas Pantai Senggigi, Lombok\\n\\nHarga Tiket: Tiket Kapal Menyebrang Rp 10.000\\n\\n5.', 'Pulau Gili Air\\n\\nMeski terletak bersebelahan dengan Gili Trawangan, Gili Air memiliki atraksinya tersendiri yang berbeda.', 'Jika Gili Trawangan identik dengan keramaiannya yang seru, maka Gili Air cenderung lebih tenang dan sepi.', 'Di Gili Air, kamu bisa menghabiskan waktu dengan bersantai di resort-resort mewah sambil menangkap pemandangan laut yang luar biasa indah dengan kamera-mu.', 'Lokasi: Lepas Pantai Senggigi, Lombok\\n\\nHarga Tiket: Tiket Kapal Menyebrang Rp 9.000\\n\\n6.', 'Pulau Gili Meno\\n\\nSumber gambar: CNN News\\n\\nLain lagi dengan kedua tetangganya itu, Gili Meno merupakan pulau kecil yang masih relatif belum terjamah, dengan panorama alam yang sangat asri.', 'Kerenggangan pengunjung di pulau ini dimanfaatkan banyak turis untuk ber-snorkelling ataupun diving di lautan sekitarnya\\n\\nLokasi: Lepas Pantai Senggigi, Lombok\\n\\nHarga Tiket: Tiket Kapal Menyebrang Rp 8.000.’\\n\\nBaca juga: 8 Benda Ini Wajib Kamu Bawa saat Liburan ke Pantai\\n\\n7.', 'Pulau Gili Nanggu\\n\\nSumber gambar: Dilombok\\n\\nWisata pulau favorit di NTB selanjutnya adalah Gili Nanggu.', 'Letak Gili Nanggu tidak jauh dari lepas Pantai Cemare, salah satu pantai terkenal di Pulau Lombok.', 'Gili – yang berarti pulau kecil dalam bahasa Sasak – satu ini masih sangat asri dan belum terjamah.', 'Para pengunjungnya bisa menikmati hamparan pasir putih dan air laut yang masih jernih.', 'Lokasi: Lepas Pantai Pelabuhan Tawun, Lombok\\n\\nHarga Tiket: Sewa Perahu Rp 200.000 – Rp 450.000\\n\\n8.', 'Pulau Gili Kedis\\n\\nSumber gambar: Pesona Lombok dan Sumbawa\\n\\nPosisi GIli Kedis sangat dekat dengan GIli Nanggu.', 'Sama seperti Gili Nanggu, kawasan pulau ini masih relatif sepi, dengan kondisi laut yang jernih.', 'Tidak heran bila Gili Kedis belakangan tengah naik daun sebagai spot Snorkelling favorit di NTB.', 'Lokasi: Lepas Pantai Pelabuhan Tawun, Lombok\\n\\nHarga Tiket: Sewa Perahu Rp 200.000 – Rp 450.000\\n\\n9.', 'Pulau Gili Tongkang\\n\\nSumber gambar: Merah Putih\\n\\nMasih di sekitar Pelabuhan Tawun, ada Gili yang tidak kalah populer dengan Gili lainnya, yakni Gili Tongkang.', 'Perairan di sekitar Gili ini sangat kaya akan variasi biota laut yang hidup di dalamnya.', 'Pengunjung Gili Tongkang bisa menikmati sensasi Diving, melihat panorama alam bawah laut khas NTB.', 'Lokasi: Lepas Pantai Pelabuhan Tawun, Lombok\\n\\nHarga Tiket: Sewa Perahu Rp 200.000 – Rp 450.000\\n\\n10.', 'Pulau Gili Layar\\n\\nWisata pulau favorit di NTB selanjutnya adalah Gili Layar.', 'Gili ini terkenal akan panorama Terumbu Karang yang berada di perairan sekitar pulau ini.', 'Tidak heran bila banyak wisatawan asing yang rela jauh-jauh ke GIli Layar untuk menikmati indahnya alam laut di pulau ini.', 'Jadi, langsung siapkan Kamera Underwater-mu!', 'Lokasi: Lepas Pantai Pelabuhan Nambung, Lombok\\n\\nHarga Tiket: Sewa Perahu Rp 200.000 – Rp 450.000\\n\\n11.', 'Pulau Komodo\\n\\nSumber gambar: Merah Putih\\n\\nMemang letak pulau ini bukan berada di dalam wilayah NTB, melainkan tetanggnya Nusa Tenggara Timur.', 'Akan tetapi, letaknya pulau ini masih terjangkau dari Pulau Lombok.', 'Cukup menyebrang dengan banyak layanan kapal yang tersedia, wisatawan bisa mengunjungi Pulau Komodo dan melihat langsung Komodo yang legendaris itu!', 'Jangan lupa untuk selalu jaga jarak, gunakan Kamera DSLR untuk memfoto Komodo dari jauh.', 'Harga Tiket: Tiket masuk Rp 90.000\\n\\n12.', 'Pulau Moyo\\n\\nSumber gambar: Pesona Indo\\n\\nPulau terakhir yang masuk rekomendasi adalah Pulau Moyo.', 'Pulau yang dijuluki “Permata Biru yang Tersembunyi” ini memang masih sepi pengunjung.', 'Alamnya yang luar biasa indah dan asri menjadi daya tarik utama Pulau Moyo.', 'Buat kamu yang mau liburan anti-mainstream, pulau ini bisa jadi pilihan!', 'Lokasi: Teluk Saleh, Kabupaten Sumbawa, NTB\\n\\nHarga Tiket: Tiket kapal menyebrang Rp 25.000\\n\\nBaca juga: 4 Destinasi Wisata Pulau Terbaik di Sulawesi Tengah\\n\\nNah, itu dia daftar rekomendasi spot-spot wisata favorit di NTB versi Tokopedia.', 'Gimana, tertarik untuk berlibur ke NTB?', 'Jangan lupa untuk cek perlengkapan travelling-mu dan segera booking tiket pesawat termurah hanya di Tokopedia!']\n"
          ]
        }
      ],
      "source": [
        "# Tokenization\n",
        "text = corpus\n",
        "sentence_list = nltk.sent_tokenize(text) #A list of sentences\n",
        "\n",
        "# Print the list of sentences\n",
        "print(sentence_list)\n"
      ]
    },
    {
      "cell_type": "markdown",
      "metadata": {
        "id": "A0kZDPHxCRGm"
      },
      "source": [
        "### Proses 3 (Bot Response)"
      ]
    },
    {
      "cell_type": "code",
      "execution_count": null,
      "metadata": {
        "id": "qII0gu1dCRGm"
      },
      "outputs": [],
      "source": [
        "#a function to return a random greeting response to a users greeting\n",
        "def greeting_response(text):\n",
        "    text = text.lower()\n",
        "\n",
        "    #Users greeting\n",
        "    user_greetings = ['hi','hey','hello','selamat datang','punten']\n",
        "    \n",
        "    #Bots greeting respone\n",
        "    bot_greetings = ['hi','hello','mangga']\n",
        "    \n",
        "    for word in text.split():    \n",
        "        if word in user_greetings:\n",
        "            return random.choice(bot_greetings)\n",
        "        \n",
        "    #Random response to greeting\n",
        "    #def gratitude_response(text):\n",
        "        #text=text.lower()\n",
        "   \n"
      ]
    },
    {
      "cell_type": "markdown",
      "metadata": {
        "id": "oTHbuHoO_SXL"
      },
      "source": [
        "### Sorting List"
      ]
    },
    {
      "cell_type": "code",
      "execution_count": null,
      "metadata": {
        "id": "ZQnYG5nQCRGn"
      },
      "outputs": [],
      "source": [
        " def index_sort(list_var):\n",
        "    length = len(list_var)\n",
        "    list_index = list(range(0, length))\n",
        "    \n",
        "    x = list_var        \n",
        "    for i in range(length):\n",
        "        for j in range(length):\n",
        "            if x[list_index[i]] > x[list_index[j]]:\n",
        "                #swap\n",
        "                temp = list_index[i]\n",
        "                list_index[i] = list_index[j]\n",
        "                list_index[j] = temp\n",
        "                \n",
        "    return list_index"
      ]
    },
    {
      "cell_type": "markdown",
      "metadata": {
        "id": "tIuiijdc_YZ2"
      },
      "source": [
        "# Chatbot Respon Menggunakan Cosine Similarity\n",
        "\n",
        "Pada respon bot menggunakan teknis Cosine Similarity untuk menghitung kata yang cocok dengan yang di input user terhadap respon dari Bot"
      ]
    },
    {
      "cell_type": "code",
      "execution_count": null,
      "metadata": {
        "id": "VrBJ58bvCRGn"
      },
      "outputs": [],
      "source": [
        "# Creat Bots Response\n",
        "def bot_response(user_input):\n",
        "    user_input=user_input.lower() #mengambil input user diubah menjadi huruf kecil semua\n",
        "    sentence_list.append(user_input) #proses menambahkan input user kedalam corpus kalimat artikel\n",
        "    bot_response= ''\n",
        "    cm=CountVectorizer().fit_transform(sentence_list) #mengubah teks ke bentuk vector\n",
        "    similarity_scores=cosine_similarity(cm[-1],cm) #Membandingkan kedekatan kalimat antara input dan sentence list\n",
        "    similarity_scores_list=similarity_scores.flatten() #mengubah vector cosim menjadi total nilai similarity \n",
        "    index=index_sort(similarity_scores_list) #pakai fungsi index sort untuk mengurutkan index terbesar ke terkecil\n",
        "    index=index[1:] #mengambil data dengan nilai cosim terbesar\n",
        "    response_flag=0\n",
        "    \n",
        "    j=0\n",
        "    for i in range(len(index)): #ngecheck jika kalimat di dalam index lebih dari 0 maka memiliki kesamaan dengan corpus sentence list, dan menentukan bot responnya\n",
        "        if similarity_scores_list[index[i]]>0.0:\n",
        "            bot_response=bot_response+' '+sentence_list[index[i]]\n",
        "            response_flag=1\n",
        "            j=j+1\n",
        "        if j>2:\n",
        "            break\n",
        "\n",
        "        if response_flag==0:\n",
        "            bot_response=bot_response+\" \"+\"Saya minta maaf, karena kurang memahami yang anda maksud\"\n",
        "\n",
        "        sentence_list.remove(user_input) \n",
        "\n",
        "        return bot_response"
      ]
    },
    {
      "cell_type": "markdown",
      "metadata": {
        "id": "8-C33RGuCRGo"
      },
      "source": [
        "### Proses 4 (End Process, Making chat box)"
      ]
    },
    {
      "cell_type": "code",
      "execution_count": null,
      "metadata": {
        "colab": {
          "background_save": true,
          "base_uri": "https://localhost:8080/"
        },
        "id": "7GTB7h9TCRGo",
        "outputId": "8b5c58fa-0ce9-46e0-e94d-56f136b8b901"
      },
      "outputs": [
        {
          "name": "stdout",
          "output_type": "stream",
          "text": [
            "Doc Bot: I am DOc bot and I will answer your queries about ten tourist attractions in NTB, if you want to exit type, bye  ?\n",
            "Doc Bot:  Pulau Lombok\n",
            "\n",
            "Sumber gambar: Dream\n",
            "\n",
            "Sebagai pulau primer di kawasan Nusa Tenggara Barat, tentunya pulau Lombok menjadi destinasi paling utama buat para pelancong.\n"
          ]
        }
      ],
      "source": [
        "#Start Chat\n",
        "print(\"Doc Bot: I am DOc bot and I will answer your queries about ten tourist attractions in NTB, if you want to exit type, bye  ?\")\n",
        "\n",
        "exit_list=['exit','bye','sampai jumpa','terima kasih','quit']\n",
        "\n",
        "while(True):\n",
        "    user_input=input()\n",
        "    if user_input.lower() in exit_list:\n",
        "        print('Doc Bot: Terima Kasih, sampai jumpa lagi')\n",
        "        break\n",
        "    else:\n",
        "        if greeting_response(user_input)!= None:\n",
        "            print('Doc Bot: '+ greeting_response(user_input))\n",
        "        else:\n",
        "            print('Doc Bot: '+ bot_response(user_input))"
      ]
    },
    {
      "cell_type": "code",
      "execution_count": null,
      "metadata": {
        "colab": {
          "base_uri": "https://localhost:8080/"
        },
        "id": "RUS_etmIFsIz",
        "outputId": "1712cdce-a14e-401c-b3df-e49b2aaeb61d"
      },
      "outputs": [
        {
          "name": "stdout",
          "output_type": "stream",
          "text": [
            "Doc Bot: I am DOc bot and I will answer your queries about ten tourist attractions in NTB, if you want to exit type, bye  ?\n",
            "Pulau Sumbawa adalah?\n",
            "Doc Bot:  Pulau Sumbawa\n",
            "\n",
            "Sumber gambar: Merdeka\n",
            "\n",
            "Pulau Sumbawa merupakan pulau terbesar ke-2 di Nusa Tenggara Barat.\n",
            "Terima kasih\n",
            "Doc Bot: Terima Kasih, sampai jumpa lagi\n"
          ]
        }
      ],
      "source": [
        "#Start Chat\n",
        "print(\"Doc Bot: I am DOc bot and I will answer your queries about ten tourist attractions in NTB, if you want to exit type, bye  ?\")\n",
        "\n",
        "exit_list=['exit','bye','sampai jumpa','terima kasih','quit']\n",
        "\n",
        "while(True):\n",
        "    user_input=input()\n",
        "    if user_input.lower() in exit_list:\n",
        "        print('Doc Bot: Terima Kasih, sampai jumpa lagi')\n",
        "        break\n",
        "    else:\n",
        "        if greeting_response(user_input)!= None:\n",
        "            print('Doc Bot: '+ greeting_response(user_input))\n",
        "        else:\n",
        "            print('Doc Bot: '+ bot_response(user_input))"
      ]
    },
    {
      "cell_type": "code",
      "execution_count": null,
      "metadata": {
        "colab": {
          "base_uri": "https://localhost:8080/"
        },
        "id": "f7bX_9gjF_DP",
        "outputId": "d79d0e68-5439-4c80-f3f3-af00cdd9d41c"
      },
      "outputs": [
        {
          "name": "stdout",
          "output_type": "stream",
          "text": [
            "Doc Bot: I am DOc bot and I will answer your queries about ten tourist attractions in NTB, if you want to exit type, bye  ?\n",
            "Pulau Gili  Air adalah?\n",
            "Doc Bot:  Pulau Gili Air\n",
            "\n",
            "Meski terletak bersebelahan dengan Gili Trawangan, Gili Air memiliki atraksinya tersendiri yang berbeda.\n",
            "Terima kasih\n",
            "Doc Bot: Terima Kasih, sampai jumpa lagi\n"
          ]
        }
      ],
      "source": [
        "#Start Chat\n",
        "print(\"Doc Bot: I am DOc bot and I will answer your queries about ten tourist attractions in NTB, if you want to exit type, bye  ?\")\n",
        "\n",
        "exit_list=['exit','bye','sampai jumpa','terima kasih','quit']\n",
        "\n",
        "while(True):\n",
        "    user_input=input()\n",
        "    if user_input.lower() in exit_list:\n",
        "        print('Doc Bot: Terima Kasih, sampai jumpa lagi')\n",
        "        break\n",
        "    else:\n",
        "        if greeting_response(user_input)!= None:\n",
        "            print('Doc Bot: '+ greeting_response(user_input))\n",
        "        else:\n",
        "            print('Doc Bot: '+ bot_response(user_input))"
      ]
    },
    {
      "cell_type": "code",
      "execution_count": null,
      "metadata": {
        "colab": {
          "base_uri": "https://localhost:8080/"
        },
        "id": "bt3F4kH7GRMi",
        "outputId": "d966d8dd-4487-4506-ab4e-ddfc73875bd1"
      },
      "outputs": [
        {
          "name": "stdout",
          "output_type": "stream",
          "text": [
            "Doc Bot: I am DOc bot and I will answer your queries about ten tourist attractions in NTB, if you want to exit type, bye  ?\n",
            "Pulau Gili Kedis adalah?\n",
            "Doc Bot:  Pulau Gili Kedis\n",
            "\n",
            "Sumber gambar: Pesona Lombok dan Sumbawa\n",
            "\n",
            "Posisi GIli Kedis sangat dekat dengan GIli Nanggu.\n",
            "Terima kasih\n",
            "Doc Bot: Terima Kasih, sampai jumpa lagi\n"
          ]
        }
      ],
      "source": [
        "#Start Chat\n",
        "print(\"Doc Bot: I am DOc bot and I will answer your queries about ten tourist attractions in NTB, if you want to exit type, bye  ?\")\n",
        "\n",
        "exit_list=['exit','bye','sampai jumpa','terima kasih','quit']\n",
        "\n",
        "while(True):\n",
        "    user_input=input()\n",
        "    if user_input.lower() in exit_list:\n",
        "        print('Doc Bot: Terima Kasih, sampai jumpa lagi')\n",
        "        break\n",
        "    else:\n",
        "        if greeting_response(user_input)!= None:\n",
        "            print('Doc Bot: '+ greeting_response(user_input))\n",
        "        else:\n",
        "            print('Doc Bot: '+ bot_response(user_input))"
      ]
    },
    {
      "cell_type": "code",
      "execution_count": null,
      "metadata": {
        "colab": {
          "base_uri": "https://localhost:8080/"
        },
        "id": "dfPniEfnGtFt",
        "outputId": "c18e5d52-36e9-4fb3-8cb7-6391f4a07601"
      },
      "outputs": [
        {
          "name": "stdout",
          "output_type": "stream",
          "text": [
            "Doc Bot: I am DOc bot and I will answer your queries about ten tourist attractions in NTB, if you want to exit type, bye  ?\n",
            "Berapakah harga sewa perahu?\n",
            "Doc Bot:  Lokasi: Lepas Pantai Pelabuhan Tawun, Lombok\n",
            "\n",
            "Harga Tiket: Sewa Perahu Rp 200.000 – Rp 450.000\n",
            "\n",
            "9.\n",
            "Terima kasih\n",
            "Doc Bot: Terima Kasih, sampai jumpa lagi\n"
          ]
        }
      ],
      "source": [
        "#Start Chat\n",
        "print(\"Doc Bot: I am DOc bot and I will answer your queries about ten tourist attractions in NTB, if you want to exit type, bye  ?\")\n",
        "\n",
        "exit_list=['exit','bye','sampai jumpa','terima kasih','quit']\n",
        "\n",
        "while(True):\n",
        "    user_input=input()\n",
        "    if user_input.lower() in exit_list:\n",
        "        print('Doc Bot: Terima Kasih, sampai jumpa lagi')\n",
        "        break\n",
        "    else:\n",
        "        if greeting_response(user_input)!= None:\n",
        "            print('Doc Bot: '+ greeting_response(user_input))\n",
        "        else:\n",
        "            print('Doc Bot: '+ bot_response(user_input))"
      ]
    },
    {
      "cell_type": "code",
      "execution_count": null,
      "metadata": {
        "colab": {
          "base_uri": "https://localhost:8080/"
        },
        "id": "IJtzuC77Ha3K",
        "outputId": "2cac04e9-c808-477e-c437-cd79f75f7866"
      },
      "outputs": [
        {
          "name": "stdout",
          "output_type": "stream",
          "text": [
            "Doc Bot: I am DOc bot and I will answer your queries about ten tourist attractions in NTB, if you want to exit type, bye  ?\n",
            "Berapakah harga tiket ferry dari lombok?\n",
            "Doc Bot:  Harga Tiket: Tiket Ferry dari Lombok mulai Rp 29.000\n",
            "\n",
            "4.\n",
            "Exit\n",
            "Doc Bot: Terima Kasih, sampai jumpa lagi\n"
          ]
        }
      ],
      "source": [
        "#Start Chat\n",
        "print(\"Doc Bot: I am DOc bot and I will answer your queries about ten tourist attractions in NTB, if you want to exit type, bye  ?\")\n",
        "\n",
        "exit_list=['exit','bye','sampai jumpa','terima kasih','quit']\n",
        "\n",
        "while(True):\n",
        "    user_input=input()\n",
        "    if user_input.lower() in exit_list:\n",
        "        print('Doc Bot: Terima Kasih, sampai jumpa lagi')\n",
        "        break\n",
        "    else:\n",
        "        if greeting_response(user_input)!= None:\n",
        "            print('Doc Bot: '+ greeting_response(user_input))\n",
        "        else:\n",
        "            print('Doc Bot: '+ bot_response(user_input))"
      ]
    }
  ],
  "metadata": {
    "accelerator": "GPU",
    "colab": {
      "collapsed_sections": [],
      "name": "Project Mini NLP Chatbot 10 Tempat Wisata di NTB.ipynb",
      "provenance": [],
      "include_colab_link": true
    },
    "kernelspec": {
      "display_name": "Python 3",
      "name": "python3"
    },
    "language_info": {
      "name": "python"
    }
  },
  "nbformat": 4,
  "nbformat_minor": 0
}